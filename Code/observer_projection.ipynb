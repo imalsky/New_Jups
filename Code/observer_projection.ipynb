{
 "cells": [
  {
   "cell_type": "code",
   "execution_count": 1,
   "metadata": {},
   "outputs": [],
   "source": [
    "import pandas as pd\n",
    "import numpy as np\n",
    "from mpl_toolkits.basemap import Basemap\n",
    "import matplotlib.pyplot as plt\n",
    "import matplotlib.colors as mcolors\n",
    "from scipy import interpolate\n"
   ]
  },
  {
   "cell_type": "code",
   "execution_count": 2,
   "metadata": {},
   "outputs": [],
   "source": [
    "def get_vlos(file, r_p, omega, level):\n",
    "    colnames = ['lat', 'lon', 'level', 'alt', 'pres', 'temp',\n",
    "                            'u', 'v', 'w',\n",
    "                            'aero_sw_tau_1', 'sw_asym_1', 'sw_pi0_1',\n",
    "                            'aero_sw_tau_2', 'sw_asym_2', 'sw_pi0_2',\n",
    "                            'aero_sw_tau_3', 'sw_asym_3', 'sw_pi0_3',\n",
    "                            'aero_sw_tau_4', 'sw_asym_4', 'sw_pi0_4',\n",
    "                            'incident_frac']\n",
    "    df = pd.read_csv(file, delim_whitespace=True, names=colnames, header=None)\n",
    "    subobslon = 0\n",
    "    dtr = 0.0174533 # Degrees to radians\n",
    "    \n",
    "    # I only care about some spots\n",
    "    df = df[(df['level'] == level)].reset_index(drop=True)\n",
    "    \n",
    "    df['vlos'] =  -df.u * np.sin(subobslon - (df.lon * dtr)) + \\\n",
    "                df.v * np.cos(subobslon - (df.lon * dtr)) * np.sin(df.lat * dtr) - \\\n",
    "                omega * (r_p + df.alt) * np.sin(subobslon - (df.lon * dtr)) * np.cos(df.lat * dtr)\n",
    "    \n",
    "    df.to_csv('test.txt', index=False, sep=' ')\n",
    "    X = list(df['lat'])\n",
    "    Y = list(df['lon'])\n",
    "    vlos = list(df['vlos'])\n",
    "    temp = list(df['temp'])\n",
    "    return X, Y, vlos, temp\n",
    "\n",
    "\n",
    "\n",
    "\n",
    "\n",
    "\n",
    "def add_vlos(file, r_p, omega, inc):\n",
    "    df = pd.read_csv(file + '.txt', delim_whitespace=True, names=('lat', 'lon', 'level',\n",
    "                                                              'alt', 'pres', 'temp',\n",
    "                                                              'u', 'v', 'w',\n",
    "                                                              'aero_sw_tau_1', 'sw_asym_1', 'sw_pi0_1',\n",
    "                                                              'aero_sw_tau_2', 'sw_asym_2', 'sw_pi0_2',\n",
    "                                                              'aero_sw_tau_3', 'sw_asym_3', 'sw_pi0_3',\n",
    "                                                              'aero_sw_tau_4', 'sw_asym_4', 'sw_pi0_4',\n",
    "                                                              'incident_frac'))\n",
    "    subobslon = 0\n",
    "    dtr = 0.0174533 # Degrees to radians\n",
    "    df['vlos'] =  -df.u * np.sin(subobslon - (df.lon * dtr)) + \\\n",
    "                df.v * np.cos(subobslon - (df.lon * dtr)) * np.sin(df.lat * dtr) - \\\n",
    "                np.cos(inc) * (omega * (r_p + df.alt) * np.sin(subobslon - (df.lon * dtr)) * np.cos(df.lat * dtr)) \n",
    "    \n",
    "    np.savetxt(file + '_vlos.txt', df.to_numpy(),\n",
    "    fmt='%12.4E %12.4E  %12.4E  %12.4E  %12.4E  %12.4E  %12.4E  %12.4E  %12.4E  %12.4E  %12.4E  %12.4E  %12.4E  %12.4E  %12.4E  %12.4E  %12.4E  %12.4E  %12.4E  %12.4E  %12.4E  %12.4E  %12.4E\\t')"
   ]
  },
  {
   "cell_type": "code",
   "execution_count": null,
   "metadata": {},
   "outputs": [],
   "source": [
    "\n"
   ]
  },
  {
   "cell_type": "code",
   "execution_count": null,
   "metadata": {},
   "outputs": [],
   "source": []
  },
  {
   "cell_type": "code",
   "execution_count": null,
   "metadata": {},
   "outputs": [],
   "source": [
    "\n"
   ]
  },
  {
   "cell_type": "code",
   "execution_count": 4,
   "metadata": {},
   "outputs": [
    {
     "ename": "NameError",
     "evalue": "name 'v' is not defined",
     "output_type": "error",
     "traceback": [
      "\u001b[0;31m---------------------------------------------------------------------------\u001b[0m",
      "\u001b[0;31mNameError\u001b[0m                                 Traceback (most recent call last)",
      "\u001b[0;32m<ipython-input-4-82c90546a0c4>\u001b[0m in \u001b[0;36m<module>\u001b[0;34m\u001b[0m\n\u001b[1;32m    122\u001b[0m     \u001b[0mplt\u001b[0m\u001b[0;34m.\u001b[0m\u001b[0mclf\u001b[0m\u001b[0;34m(\u001b[0m\u001b[0;34m)\u001b[0m\u001b[0;34m\u001b[0m\u001b[0;34m\u001b[0m\u001b[0m\n\u001b[1;32m    123\u001b[0m \u001b[0;34m\u001b[0m\u001b[0m\n\u001b[0;32m--> 124\u001b[0;31m \u001b[0mv\u001b[0m\u001b[0;34m\u001b[0m\u001b[0;34m\u001b[0m\u001b[0m\n\u001b[0m",
      "\u001b[0;31mNameError\u001b[0m: name 'v' is not defined"
     ]
    },
    {
     "data": {
      "text/plain": [
       "<Figure size 504x504 with 0 Axes>"
      ]
     },
     "metadata": {},
     "output_type": "display_data"
    }
   ],
   "source": [
    "# colormap\n",
    "cm_name = 'lajolla'\n",
    "cm_file = np.loadtxt(f'ScientificColourMaps5/lajolla/lajolla.txt')\n",
    "my_colors = mcolors.LinearSegmentedColormap.from_list(cm_name, cm_file[::-1])\n",
    "\n",
    "fig, ax = plt.subplots(1, figsize=(7, 7))\n",
    "\n",
    "\n",
    "\n",
    "files = ['/home/imalsky/Desktop/1-04-SUITE/UPS-LOW-G-CLEAR-250/Spectra/DATA/init_UPS-LOW-G-CLEAR-250_phase_0.0_inc_1.152',\n",
    "         '/home/imalsky/Desktop/1-04-SUITE/UPS-LOW-G-CLEAR-250/Spectra/DATA/init_UPS-LOW-G-CLEAR-250_phase_120.0_inc_1.152',\n",
    "         '/home/imalsky/Desktop/1-04-SUITE/UPS-LOW-G-CLEAR-250/Spectra/DATA/init_UPS-LOW-G-CLEAR-250_phase_240.0_inc_1.152',\n",
    "         '/home/imalsky/Desktop/1-04-SUITE/UPS-LOW-G-COM-CLOUDY-250/Spectra/DATA/init_UPS-LOW-G-COM-CLOUDY-250_phase_0.0_inc_1.152',\n",
    "         '/home/imalsky/Desktop/1-04-SUITE/UPS-LOW-G-COM-CLOUDY-250/Spectra/DATA/init_UPS-LOW-G-COM-CLOUDY-250_phase_120.0_inc_1.152',\n",
    "         '/home/imalsky/Desktop/1-04-SUITE/UPS-LOW-G-COM-CLOUDY-250/Spectra/DATA/init_UPS-LOW-G-COM-CLOUDY-250_phase_240.0_inc_1.152']\n",
    "\n",
    "figure_names = ['1', '2']\n",
    "\n",
    "\n",
    "pressure_mins = [79.8] * len(files)\n",
    "\n",
    "i = 0\n",
    "for file in files:  \n",
    "    pressure_min = pressure_mins[i]\n",
    "    r_p = 6.99e7\n",
    "    omega = 2.063e-5\n",
    "    inc = 0\n",
    "\n",
    "\n",
    "    add_vlos(file, r_p, omega, inc)\n",
    "    df = pd.read_table(file + '_vlos.txt',\n",
    "                        delim_whitespace=True,\n",
    "                        names=('lat', 'lon', 'level',\n",
    "                                'alt', 'pressure', 'temp',\n",
    "                                'u', 'v', 'w',\n",
    "                                'aero_sw_tau_1', 'sw_asym_1', 'sw_pi0_1',\n",
    "                                'aero_sw_tau_2', 'sw_asym_2', 'sw_pi0_2',\n",
    "                                'aero_sw_tau_3', 'sw_asym_3', 'sw_pi0_3',\n",
    "                                'aero_sw_tau_4', 'sw_asym_4', 'sw_pi0_4',\n",
    "                                'incident_frac','vlos'))\n",
    "\n",
    "    all_lats = sorted(list(set(df.lat)))\n",
    "    all_lons = sorted(list(set(df.lon)))\n",
    "    \n",
    "    lats = []\n",
    "    lons = []\n",
    "    temps = []\n",
    "    us = []\n",
    "    vs = []\n",
    "    vloss = []\n",
    "\n",
    "    for lat in all_lats:\n",
    "        for lon in all_lons:\n",
    "            temp_df = df[df.lat == lat]\n",
    "            temp_df = temp_df[temp_df.lon == lon]\n",
    "            temp_df = temp_df.reset_index()\n",
    "\n",
    "            k = len(temp_df.pressure) - 1\n",
    "            while temp_df.pressure[k] * 1e-2 > pressure_min:\n",
    "                k = k - 1\n",
    "\n",
    "            lats.append(lat)\n",
    "            lons.append(lon)\n",
    "            temps.append(temp_df.temp[k])\n",
    "            vloss.append(temp_df.vlos[k])\n",
    "            us.append(temp_df.u[k])\n",
    "            vs.append(temp_df.v[k])\n",
    "            \n",
    "\n",
    "    new_lats = np.reshape(lats, (48, 96))\n",
    "    new_lons = np.reshape(lons, (48, 96))\n",
    "\n",
    "    final_lats = new_lats * np.pi / 180\n",
    "    final_lons = new_lons * np.pi / 180\n",
    "\n",
    "    final_temps = np.reshape(temps, (48, 96))\n",
    "\n",
    "    final_us = np.reshape(us, (48, 96))\n",
    "    final_vs = np.reshape(vs, (48, 96))\n",
    "    final_vlos = np.reshape(vloss, (48, 96))\n",
    "\n",
    "\n",
    "    # set up orthographic map projection with\n",
    "    # perspective of satellite looking down at 50N, 100W.\n",
    "    # use low resolution coastlines.\n",
    "    map = Basemap(projection='ortho',lat_0=0,lon_0=180,resolution='l')\n",
    "\n",
    "    # draw the edge of the map projection region (the projection limb)\n",
    "    map.drawmapboundary(fill_color='aqua')\n",
    "\n",
    "    # draw lat/lon grid lines every 30 degrees.\n",
    "    map.drawmeridians(np.arange(0,360,30))\n",
    "    map.drawparallels(np.arange(-90,90,30))\n",
    "\n",
    "\n",
    "    # compute native map projection coordinates of lat/lon grid.\n",
    "    x, y = map(final_lons*180./np.pi, final_lats*180./np.pi)\n",
    "\n",
    "    # Graph the lines\n",
    "    map.contour(x, y, final_vlos, levels=[0], colors='white', linewidths=3, linestyles='dotted')\n",
    "    map.contour(x, y, final_vlos, levels=[-4000, -3000, -2000, -1000],colors='#8f1402', linewidths=3, linestyles='dashed')\n",
    "    map.contour(x, y, final_vlos, levels=[1000, 2000, 3000, 4000],colors='#040273', linewidths=3, linestyles='dashed')\n",
    "\n",
    "    # Graph temperature\n",
    "    cs1 = map.contourf(x, y, final_temps, 100, cmap=my_colors, levels=np.arange(750, 2000, 10))\n",
    "    #cbar = plt.colorbar(cs1, orientation='horizontal', fraction=.057, pad=0.05)\n",
    "\n",
    "    # Graph the wind vectors\n",
    "    map.quiver(x[::2,::2], y[::2,::2], final_us[::2,::2], final_vs[::2,::2],\n",
    "              headwidth=8, scale = 180000, headlength=5, alpha=1.0)\n",
    "\n",
    "    plt.savefig('/home/imalsky/Desktop/{}.png'.format(figure_names[i]), bbox_inches='tight', dpi=250)\n",
    "    i = i + 1\n",
    "    plt.clf()\n",
    "    \n"
   ]
  },
  {
   "cell_type": "code",
   "execution_count": 24,
   "metadata": {},
   "outputs": [
    {
     "ename": "TypeError",
     "evalue": "set_yticklabels() missing 1 required positional argument: 'labels'",
     "output_type": "error",
     "traceback": [
      "\u001b[0;31m---------------------------------------------------------------------------\u001b[0m",
      "\u001b[0;31mTypeError\u001b[0m                                 Traceback (most recent call last)",
      "\u001b[0;32m<ipython-input-24-19ccf85d7572>\u001b[0m in \u001b[0;36m<module>\u001b[0;34m\u001b[0m\n\u001b[1;32m      5\u001b[0m \u001b[0mcbar\u001b[0m\u001b[0;34m.\u001b[0m\u001b[0mset_label\u001b[0m\u001b[0;34m(\u001b[0m\u001b[0mlabel\u001b[0m\u001b[0;34m=\u001b[0m\u001b[0;34m'Temperature (K)'\u001b[0m\u001b[0;34m,\u001b[0m\u001b[0mweight\u001b[0m\u001b[0;34m=\u001b[0m\u001b[0;34m'bold'\u001b[0m\u001b[0;34m,\u001b[0m \u001b[0mfontsize\u001b[0m\u001b[0;34m=\u001b[0m\u001b[0;36m20\u001b[0m\u001b[0;34m)\u001b[0m\u001b[0;34m\u001b[0m\u001b[0;34m\u001b[0m\u001b[0m\n\u001b[1;32m      6\u001b[0m \u001b[0mcbar\u001b[0m\u001b[0;34m.\u001b[0m\u001b[0max\u001b[0m\u001b[0;34m.\u001b[0m\u001b[0mtick_params\u001b[0m\u001b[0;34m(\u001b[0m\u001b[0mlabelsize\u001b[0m\u001b[0;34m=\u001b[0m\u001b[0;36m14\u001b[0m\u001b[0;34m)\u001b[0m\u001b[0;34m\u001b[0m\u001b[0;34m\u001b[0m\u001b[0m\n\u001b[0;32m----> 7\u001b[0;31m \u001b[0mcbar\u001b[0m\u001b[0;34m.\u001b[0m\u001b[0max\u001b[0m\u001b[0;34m.\u001b[0m\u001b[0mset_yticklabels\u001b[0m\u001b[0;34m(\u001b[0m\u001b[0mfontsize\u001b[0m\u001b[0;34m=\u001b[0m\u001b[0;36m16\u001b[0m\u001b[0;34m,\u001b[0m \u001b[0mweight\u001b[0m\u001b[0;34m=\u001b[0m\u001b[0;34m'bold'\u001b[0m\u001b[0;34m)\u001b[0m\u001b[0;34m\u001b[0m\u001b[0;34m\u001b[0m\u001b[0m\n\u001b[0m\u001b[1;32m      8\u001b[0m \u001b[0;34m\u001b[0m\u001b[0m\n\u001b[1;32m      9\u001b[0m \u001b[0;34m\u001b[0m\u001b[0m\n",
      "\u001b[0;31mTypeError\u001b[0m: set_yticklabels() missing 1 required positional argument: 'labels'"
     ]
    },
    {
     "data": {
      "image/png": "[encoded data removed]",
      "text/plain": [
       "<Figure size 1152x1152 with 2 Axes>"
      ]
     },
     "metadata": {
      "needs_background": "light"
     },
     "output_type": "display_data"
    }
   ],
   "source": [
    "fig, ax = plt.subplots(1, figsize=(16, 16))\n",
    "\n",
    "cbar = plt.colorbar(cs1, orientation='horizontal', fraction=.057, pad=0.05, aspect=20)\n",
    "cbar.outline.set_linewidth(2)\n",
    "cbar.set_label(label='Temperature (K)',weight='bold', fontsize=20)\n",
    "cbar.ax.tick_params(labelsize=14) \n",
    "cbar.ax.set_yticklabels(fontsize=16, weight='bold')\n",
    "\n",
    "\n",
    "plt.savefig('/home/imalsky/Desktop/sidebar.png', bbox_inches='tight', dpi=250)\n"
   ]
  },
  {
   "cell_type": "code",
   "execution_count": null,
   "metadata": {},
   "outputs": [],
   "source": []
  },
  {
   "cell_type": "code",
   "execution_count": null,
   "metadata": {},
   "outputs": [],
   "source": []
  }
 ],
 "metadata": {
  "kernelspec": {
   "display_name": "Python 3",
   "language": "python",
   "name": "python3"
  },
  "language_info": {
   "codemirror_mode": {
    "name": "ipython",
    "version": 3
   },
   "file_extension": ".py",
   "mimetype": "text/x-python",
   "name": "python",
   "nbconvert_exporter": "python",
   "pygments_lexer": "ipython3",
   "version": "3.7.6"
  }
 },
 "nbformat": 4,
 "nbformat_minor": 4
}
